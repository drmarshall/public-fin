{
 "cells": [
  {
   "cell_type": "code",
   "execution_count": 1,
   "id": "a40160d5-454a-4d6b-919d-766af884a19d",
   "metadata": {},
   "outputs": [],
   "source": [
    "# conda env create -n obb --file https://raw.githubusercontent.com/OpenBB-finance/OpenBBTerminal/main/build/conda/conda-3-9-env.yaml"
   ]
  },
  {
   "cell_type": "code",
   "execution_count": 2,
   "id": "dc068331-14a7-4ca1-8126-8314b6e65a59",
   "metadata": {
    "tags": []
   },
   "outputs": [],
   "source": [
    "# import sys\n",
    "# ! {sys.executable} -m pip install statsmodels"
   ]
  },
  {
   "cell_type": "code",
   "execution_count": 3,
   "id": "b20e157b-41b3-4dee-ace0-d70dddf73287",
   "metadata": {
    "tags": []
   },
   "outputs": [],
   "source": [
    "import numpy as np\n",
    "import pandas as pd\n",
    "from openbb import obb\n",
    "from statsmodels.regression.linear_model import OLS"
   ]
  },
  {
   "cell_type": "code",
   "execution_count": 4,
   "id": "32a93f53-551f-44e8-8f59-a3a0874428ad",
   "metadata": {},
   "outputs": [],
   "source": [
    "mag_seven = \"GOOGL AMZN AAPL META MSFT NVDA TSLA\".split(\" \")\n",
    "assert len(mag_seven) == 7"
   ]
  },
  {
   "cell_type": "code",
   "execution_count": 5,
   "id": "5e8f8e11-8742-4ec1-8df7-581aa613b067",
   "metadata": {
    "tags": []
   },
   "outputs": [
    {
     "data": {
      "text/html": [
       "<div>\n",
       "<style scoped>\n",
       "    .dataframe tbody tr th:only-of-type {\n",
       "        vertical-align: middle;\n",
       "    }\n",
       "\n",
       "    .dataframe tbody tr th {\n",
       "        vertical-align: top;\n",
       "    }\n",
       "\n",
       "    .dataframe thead th {\n",
       "        text-align: right;\n",
       "    }\n",
       "</style>\n",
       "<table border=\"1\" class=\"dataframe\">\n",
       "  <thead>\n",
       "    <tr style=\"text-align: right;\">\n",
       "      <th></th>\n",
       "      <th></th>\n",
       "      <th>open</th>\n",
       "      <th>high</th>\n",
       "      <th>low</th>\n",
       "      <th>close</th>\n",
       "      <th>volume</th>\n",
       "      <th>dividends</th>\n",
       "      <th>stock_splits</th>\n",
       "    </tr>\n",
       "    <tr>\n",
       "      <th>date</th>\n",
       "      <th>symbol</th>\n",
       "      <th></th>\n",
       "      <th></th>\n",
       "      <th></th>\n",
       "      <th></th>\n",
       "      <th></th>\n",
       "      <th></th>\n",
       "      <th></th>\n",
       "    </tr>\n",
       "  </thead>\n",
       "  <tbody>\n",
       "    <tr>\n",
       "      <th rowspan=\"5\" valign=\"top\">2023-03-02</th>\n",
       "      <th>AAPL</th>\n",
       "      <td>144.38</td>\n",
       "      <td>146.71</td>\n",
       "      <td>143.90</td>\n",
       "      <td>145.91</td>\n",
       "      <td>52238100</td>\n",
       "      <td>0.0</td>\n",
       "      <td>0.0</td>\n",
       "    </tr>\n",
       "    <tr>\n",
       "      <th>AMZN</th>\n",
       "      <td>91.41</td>\n",
       "      <td>92.23</td>\n",
       "      <td>90.39</td>\n",
       "      <td>92.13</td>\n",
       "      <td>55509400</td>\n",
       "      <td>0.0</td>\n",
       "      <td>0.0</td>\n",
       "    </tr>\n",
       "    <tr>\n",
       "      <th>GOOGL</th>\n",
       "      <td>89.66</td>\n",
       "      <td>92.28</td>\n",
       "      <td>89.59</td>\n",
       "      <td>92.00</td>\n",
       "      <td>32204400</td>\n",
       "      <td>0.0</td>\n",
       "      <td>0.0</td>\n",
       "    </tr>\n",
       "    <tr>\n",
       "      <th>META</th>\n",
       "      <td>172.38</td>\n",
       "      <td>175.01</td>\n",
       "      <td>171.43</td>\n",
       "      <td>174.53</td>\n",
       "      <td>17352000</td>\n",
       "      <td>0.0</td>\n",
       "      <td>0.0</td>\n",
       "    </tr>\n",
       "    <tr>\n",
       "      <th>MSFT</th>\n",
       "      <td>246.55</td>\n",
       "      <td>251.40</td>\n",
       "      <td>245.61</td>\n",
       "      <td>251.11</td>\n",
       "      <td>24808200</td>\n",
       "      <td>0.0</td>\n",
       "      <td>0.0</td>\n",
       "    </tr>\n",
       "  </tbody>\n",
       "</table>\n",
       "</div>"
      ],
      "text/plain": [
       "                     open    high     low   close    volume  dividends  \\\n",
       "date       symbol                                                        \n",
       "2023-03-02 AAPL    144.38  146.71  143.90  145.91  52238100        0.0   \n",
       "           AMZN     91.41   92.23   90.39   92.13  55509400        0.0   \n",
       "           GOOGL    89.66   92.28   89.59   92.00  32204400        0.0   \n",
       "           META    172.38  175.01  171.43  174.53  17352000        0.0   \n",
       "           MSFT    246.55  251.40  245.61  251.11  24808200        0.0   \n",
       "\n",
       "                   stock_splits  \n",
       "date       symbol                \n",
       "2023-03-02 AAPL             0.0  \n",
       "           AMZN             0.0  \n",
       "           GOOGL            0.0  \n",
       "           META             0.0  \n",
       "           MSFT             0.0  "
      ]
     },
     "execution_count": 5,
     "metadata": {},
     "output_type": "execute_result"
    }
   ],
   "source": [
    "df = obb.equity.price.historical(mag_seven, provider=\"yfinance\").to_df().set_index('symbol', append=True)\n",
    "df.head()"
   ]
  },
  {
   "cell_type": "markdown",
   "id": "a8dc3c8a-b6a9-42b6-af69-dbe7f8bb566b",
   "metadata": {
    "tags": []
   },
   "source": [
    "### The question: what's the Friday close -> Monday open return of the magnificent seven over the last 6 months?"
   ]
  },
  {
   "cell_type": "code",
   "execution_count": 6,
   "id": "f1aeb2e4-22a0-4150-992d-d931c4fa9c96",
   "metadata": {
    "tags": []
   },
   "outputs": [],
   "source": [
    "df['previous_close'] = df.close.unstack().shift().stack()"
   ]
  },
  {
   "cell_type": "code",
   "execution_count": 7,
   "id": "1902e4d7-dfa3-4828-9395-257a5020c5eb",
   "metadata": {
    "tags": []
   },
   "outputs": [],
   "source": [
    "# for Mondays, what is open - previous close\n",
    "rets = df[df.index.get_level_values(0).dayofweek == 0].open / df[df.index.get_level_values(0).dayofweek == 0].previous_close - 1\n",
    "rets = rets['2023-10-01':] # last 6 months"
   ]
  },
  {
   "cell_type": "code",
   "execution_count": 8,
   "id": "cce800b8-eb82-43c6-820a-96fab9ec475c",
   "metadata": {
    "tags": []
   },
   "outputs": [
    {
     "data": {
      "text/plain": [
       "-0.000723077616955763"
      ]
     },
     "execution_count": 8,
     "metadata": {},
     "output_type": "execute_result"
    }
   ],
   "source": [
    "# average return for equal weighted portfolio holding over weekend\n",
    "rets.mean()"
   ]
  },
  {
   "cell_type": "code",
   "execution_count": 9,
   "id": "5d080c5d-e5a3-41a3-ac1a-210d860b0d34",
   "metadata": {
    "tags": []
   },
   "outputs": [
    {
     "data": {
      "text/plain": [
       "-0.0020888908934277597"
      ]
     },
     "execution_count": 9,
     "metadata": {},
     "output_type": "execute_result"
    }
   ],
   "source": [
    "# annualized \n",
    "rets.mean() * (52 / rets.index.get_level_values(0).nunique())"
   ]
  },
  {
   "cell_type": "code",
   "execution_count": 10,
   "id": "e1272d8e-9356-4a6d-bb97-4d7298f1d19f",
   "metadata": {
    "tags": []
   },
   "outputs": [
    {
     "data": {
      "text/plain": [
       "-0.007576854404191028"
      ]
     },
     "execution_count": 10,
     "metadata": {},
     "output_type": "execute_result"
    }
   ],
   "source": [
    "rets.mean() / (rets.std() ** 0.5)"
   ]
  },
  {
   "cell_type": "code",
   "execution_count": 11,
   "id": "f22869f7-fd6a-4ff3-ae27-3d9ff25bd37f",
   "metadata": {
    "tags": []
   },
   "outputs": [
    {
     "data": {
      "text/plain": [
       "<Axes: title={'center': 'cumulative return of weekend hold, equal weighted mag7'}, xlabel='date'>"
      ]
     },
     "execution_count": 11,
     "metadata": {},
     "output_type": "execute_result"
    },
    {
     "data": {
      "image/png": "[encoded data removed]",
      "text/plain": [
       "<Figure size 640x480 with 1 Axes>"
      ]
     },
     "metadata": {},
     "output_type": "display_data"
    }
   ],
   "source": [
    "((rets.unstack().mean(1) + 1).cumprod() - 1).plot(title='cumulative return of weekend hold, equal weighted mag7')"
   ]
  },
  {
   "cell_type": "markdown",
   "id": "a1007a02-bf82-4bf9-96a9-e62719cbb644",
   "metadata": {},
   "source": [
    "#### C! -> holding over weekend is very close to 0 return, on average"
   ]
  },
  {
   "cell_type": "markdown",
   "id": "adc5a598-049c-4f78-910b-17b3298e4ea2",
   "metadata": {
    "tags": []
   },
   "source": [
    "### The question: is close->open different on Monday open versus other days of week? "
   ]
  },
  {
   "cell_type": "code",
   "execution_count": 12,
   "id": "f40c6e0e-d730-4409-968f-219588805f2a",
   "metadata": {
    "tags": []
   },
   "outputs": [],
   "source": [
    "df['close_open_ret'] = df.open / df.previous_close - 1\n",
    "# equal weighted portfolio\n",
    "lm_data = df['2023-10-01':].close_open_ret.unstack().mean(1).to_frame('close_open_ret').assign(is_monday=lambda fr: (fr.index.get_level_values(0).dayofweek == 0) * 1)"
   ]
  },
  {
   "cell_type": "code",
   "execution_count": 13,
   "id": "27a0240b-537f-47e1-802b-ad79196ee761",
   "metadata": {
    "tags": []
   },
   "outputs": [
    {
     "data": {
      "text/html": [
       "<table class=\"simpletable\">\n",
       "<caption>OLS Regression Results</caption>\n",
       "<tr>\n",
       "  <th>Dep. Variable:</th>     <td>close_open_ret</td>  <th>  R-squared:         </th> <td>   0.005</td>\n",
       "</tr>\n",
       "<tr>\n",
       "  <th>Model:</th>                   <td>OLS</td>       <th>  Adj. R-squared:    </th> <td>  -0.005</td>\n",
       "</tr>\n",
       "<tr>\n",
       "  <th>Method:</th>             <td>Least Squares</td>  <th>  F-statistic:       </th> <td>  0.5337</td>\n",
       "</tr>\n",
       "<tr>\n",
       "  <th>Date:</th>             <td>Sat, 02 Mar 2024</td> <th>  Prob (F-statistic):</th>  <td> 0.467</td> \n",
       "</tr>\n",
       "<tr>\n",
       "  <th>Time:</th>                 <td>15:25:41</td>     <th>  Log-Likelihood:    </th> <td>  359.48</td>\n",
       "</tr>\n",
       "<tr>\n",
       "  <th>No. Observations:</th>      <td>   105</td>      <th>  AIC:               </th> <td>  -715.0</td>\n",
       "</tr>\n",
       "<tr>\n",
       "  <th>Df Residuals:</th>          <td>   103</td>      <th>  BIC:               </th> <td>  -709.6</td>\n",
       "</tr>\n",
       "<tr>\n",
       "  <th>Df Model:</th>              <td>     1</td>      <th>                     </th>     <td> </td>   \n",
       "</tr>\n",
       "<tr>\n",
       "  <th>Covariance Type:</th>      <td>nonrobust</td>    <th>                     </th>     <td> </td>   \n",
       "</tr>\n",
       "</table>\n",
       "<table class=\"simpletable\">\n",
       "<tr>\n",
       "      <td></td>         <th>coef</th>     <th>std err</th>      <th>t</th>      <th>P>|t|</th>  <th>[0.025</th>    <th>0.975]</th>  \n",
       "</tr>\n",
       "<tr>\n",
       "  <th>is_monday</th> <td>   -0.0015</td> <td>    0.002</td> <td>   -0.731</td> <td> 0.467</td> <td>   -0.006</td> <td>    0.003</td>\n",
       "</tr>\n",
       "<tr>\n",
       "  <th>intercept</th> <td>    0.0008</td> <td>    0.001</td> <td>    0.917</td> <td> 0.361</td> <td>   -0.001</td> <td>    0.002</td>\n",
       "</tr>\n",
       "</table>\n",
       "<table class=\"simpletable\">\n",
       "<tr>\n",
       "  <th>Omnibus:</th>       <td>11.567</td> <th>  Durbin-Watson:     </th> <td>   1.827</td>\n",
       "</tr>\n",
       "<tr>\n",
       "  <th>Prob(Omnibus):</th> <td> 0.003</td> <th>  Jarque-Bera (JB):  </th> <td>  22.039</td>\n",
       "</tr>\n",
       "<tr>\n",
       "  <th>Skew:</th>          <td> 0.388</td> <th>  Prob(JB):          </th> <td>1.64e-05</td>\n",
       "</tr>\n",
       "<tr>\n",
       "  <th>Kurtosis:</th>      <td> 5.106</td> <th>  Cond. No.          </th> <td>    2.74</td>\n",
       "</tr>\n",
       "</table><br/><br/>Notes:<br/>[1] Standard Errors assume that the covariance matrix of the errors is correctly specified."
      ],
      "text/latex": [
       "\\begin{center}\n",
       "\\begin{tabular}{lclc}\n",
       "\\toprule\n",
       "\\textbf{Dep. Variable:}    & close\\_open\\_ret & \\textbf{  R-squared:         } &     0.005   \\\\\n",
       "\\textbf{Model:}            &       OLS        & \\textbf{  Adj. R-squared:    } &    -0.005   \\\\\n",
       "\\textbf{Method:}           &  Least Squares   & \\textbf{  F-statistic:       } &    0.5337   \\\\\n",
       "\\textbf{Date:}             & Sat, 02 Mar 2024 & \\textbf{  Prob (F-statistic):} &    0.467    \\\\\n",
       "\\textbf{Time:}             &     15:25:41     & \\textbf{  Log-Likelihood:    } &    359.48   \\\\\n",
       "\\textbf{No. Observations:} &         105      & \\textbf{  AIC:               } &    -715.0   \\\\\n",
       "\\textbf{Df Residuals:}     &         103      & \\textbf{  BIC:               } &    -709.6   \\\\\n",
       "\\textbf{Df Model:}         &           1      & \\textbf{                     } &             \\\\\n",
       "\\textbf{Covariance Type:}  &    nonrobust     & \\textbf{                     } &             \\\\\n",
       "\\bottomrule\n",
       "\\end{tabular}\n",
       "\\begin{tabular}{lcccccc}\n",
       "                    & \\textbf{coef} & \\textbf{std err} & \\textbf{t} & \\textbf{P$> |$t$|$} & \\textbf{[0.025} & \\textbf{0.975]}  \\\\\n",
       "\\midrule\n",
       "\\textbf{is\\_monday} &      -0.0015  &        0.002     &    -0.731  &         0.467        &       -0.006    &        0.003     \\\\\n",
       "\\textbf{intercept}  &       0.0008  &        0.001     &     0.917  &         0.361        &       -0.001    &        0.002     \\\\\n",
       "\\bottomrule\n",
       "\\end{tabular}\n",
       "\\begin{tabular}{lclc}\n",
       "\\textbf{Omnibus:}       & 11.567 & \\textbf{  Durbin-Watson:     } &    1.827  \\\\\n",
       "\\textbf{Prob(Omnibus):} &  0.003 & \\textbf{  Jarque-Bera (JB):  } &   22.039  \\\\\n",
       "\\textbf{Skew:}          &  0.388 & \\textbf{  Prob(JB):          } & 1.64e-05  \\\\\n",
       "\\textbf{Kurtosis:}      &  5.106 & \\textbf{  Cond. No.          } &     2.74  \\\\\n",
       "\\bottomrule\n",
       "\\end{tabular}\n",
       "%\\caption{OLS Regression Results}\n",
       "\\end{center}\n",
       "\n",
       "Notes: \\newline\n",
       " [1] Standard Errors assume that the covariance matrix of the errors is correctly specified."
      ],
      "text/plain": [
       "<class 'statsmodels.iolib.summary.Summary'>\n",
       "\"\"\"\n",
       "                            OLS Regression Results                            \n",
       "==============================================================================\n",
       "Dep. Variable:         close_open_ret   R-squared:                       0.005\n",
       "Model:                            OLS   Adj. R-squared:                 -0.005\n",
       "Method:                 Least Squares   F-statistic:                    0.5337\n",
       "Date:                Sat, 02 Mar 2024   Prob (F-statistic):              0.467\n",
       "Time:                        15:25:41   Log-Likelihood:                 359.48\n",
       "No. Observations:                 105   AIC:                            -715.0\n",
       "Df Residuals:                     103   BIC:                            -709.6\n",
       "Df Model:                           1                                         \n",
       "Covariance Type:            nonrobust                                         \n",
       "==============================================================================\n",
       "                 coef    std err          t      P>|t|      [0.025      0.975]\n",
       "------------------------------------------------------------------------------\n",
       "is_monday     -0.0015      0.002     -0.731      0.467      -0.006       0.003\n",
       "intercept      0.0008      0.001      0.917      0.361      -0.001       0.002\n",
       "==============================================================================\n",
       "Omnibus:                       11.567   Durbin-Watson:                   1.827\n",
       "Prob(Omnibus):                  0.003   Jarque-Bera (JB):               22.039\n",
       "Skew:                           0.388   Prob(JB):                     1.64e-05\n",
       "Kurtosis:                       5.106   Cond. No.                         2.74\n",
       "==============================================================================\n",
       "\n",
       "Notes:\n",
       "[1] Standard Errors assume that the covariance matrix of the errors is correctly specified.\n",
       "\"\"\""
      ]
     },
     "execution_count": 13,
     "metadata": {},
     "output_type": "execute_result"
    }
   ],
   "source": [
    "OLS(\n",
    "    lm_data.close_open_ret,\n",
    "    lm_data[['is_monday']].assign(intercept=lambda _: 1),\n",
    ").fit().summary()"
   ]
  },
  {
   "cell_type": "markdown",
   "id": "e8f6050a-292c-4d7f-a1aa-6ef358c7986c",
   "metadata": {},
   "source": [
    "#### C! -> holding over weekend seems no different than holding over weeknight"
   ]
  }
 ],
 "metadata": {
  "kernelspec": {
   "display_name": "obb",
   "language": "python",
   "name": "obb"
  },
  "language_info": {
   "codemirror_mode": {
    "name": "ipython",
    "version": 3
   },
   "file_extension": ".py",
   "mimetype": "text/x-python",
   "name": "python",
   "nbconvert_exporter": "python",
   "pygments_lexer": "ipython3",
   "version": "3.9.13"
  }
 },
 "nbformat": 4,
 "nbformat_minor": 5
}
